{
  "nbformat": 4,
  "nbformat_minor": 0,
  "metadata": {
    "colab": {
      "name": "Untitled0.ipynb",
      "provenance": [],
      "authorship_tag": "ABX9TyOyyg7Gi2w4tMh80H4ngKod",
      "include_colab_link": true
    },
    "kernelspec": {
      "name": "python3",
      "display_name": "Python 3"
    },
    "language_info": {
      "name": "python"
    }
  },
  "cells": [
    {
      "cell_type": "markdown",
      "metadata": {
        "id": "view-in-github",
        "colab_type": "text"
      },
      "source": [
        "<a href=\"https://colab.research.google.com/github/paulotrad/MATLAB_sample_code/blob/main/grabproxies.ipynb\" target=\"_parent\"><img src=\"https://colab.research.google.com/assets/colab-badge.svg\" alt=\"Open In Colab\"/></a>"
      ]
    },
    {
      "cell_type": "code",
      "execution_count": 5,
      "metadata": {
        "colab": {
          "base_uri": "https://localhost:8080/"
        },
        "id": "IcY6FXsq6ZAD",
        "outputId": "7b51c56d-6c81-4228-95dd-2c281e122e51"
      },
      "outputs": [
        {
          "output_type": "stream",
          "name": "stdout",
          "text": [
            "128.199.214.87:3128\n",
            "213.230.97.10:3128\n",
            "103.255.178.20:9080\n",
            "223.171.84.181:8000\n",
            "160.16.242.164:3128\n",
            "5.167.141.239:3128\n",
            "176.56.107.246:52210\n",
            "194.233.86.75:1234\n",
            "188.138.106.143:5566\n",
            "154.236.184.76:1981\n",
            "103.73.194.2:80\n",
            "176.119.134.72:23500\n",
            "85.25.139.22:5566\n",
            "132.145.195.93:3128\n",
            "140.227.208.234:3128\n",
            "140.227.169.36:3128\n",
            "140.227.202.238:3128\n",
            "140.227.203.4:3128\n",
            "47.57.188.208:80\n",
            "198.255.77.29:80\n",
            "20.47.108.204:8888\n",
            "178.32.101.200:80\n",
            "78.56.37.191:80\n",
            "198.255.77.18:80\n",
            "197.155.158.22:80\n",
            "187.217.54.84:80\n",
            "185.233.37.83:80\n",
            "172.105.113.133:80\n",
            "194.233.88.38:3128\n",
            "103.78.254.78:80\n",
            "206.125.41.130:443\n",
            "47.74.152.29:8888\n",
            "162.144.116.103:80\n",
            "82.223.102.92:9443\n",
            "156.200.110.114:1981\n",
            "121.1.41.162:111\n",
            "194.206.246.50:8080\n",
            "41.191.245.59:8080\n",
            "41.33.86.242:8080\n",
            "176.98.95.105:32018\n",
            "103.11.106.201:8085\n",
            "176.214.97.13:8081\n",
            "41.65.251.83:1981\n",
            "195.189.123.213:3128\n",
            "130.61.95.193:3128\n",
            "167.114.96.27:9300\n",
            "103.117.192.14:80\n",
            "147.135.255.62:8139\n"
          ]
        }
      ],
      "source": [
        "import requests\n",
        "from bs4 import BeautifulSoup\n",
        "import json\n",
        "\n",
        "\n",
        "\n",
        "\n",
        "\n",
        "def Proxy():\n",
        "        headers = {\n",
        "        'user-agent': 'Mozilla/5.0 (Windows NT 10.0; Win64; x64) AppleWebKit/537.36 (KHTML, like Gecko) Chrome/100.0.4896.127 Safari/537.36',\n",
        "        'sec-ch-ua-platform': 'Windows'}\n",
        "\n",
        "    #free-proxy-list.net\n",
        "        url='https://free-proxy-list.net/'\n",
        "        s=requests.Session()\n",
        "        r=s.get(url)\n",
        "        soup=BeautifulSoup(r.content,'html.parser')\n",
        "\n",
        "        table=soup.find('table').find('tbody')\n",
        "\n",
        "        proxy_list=[]\n",
        "        for row in table.find_all('tr'):\n",
        "            list=row.find_all('td')\n",
        "            if list[6].text=='yes':\n",
        "                proxy_list.append(list[0].text+':'+list[1].text)\n",
        "\n",
        "\n",
        "\n",
        "    #proxylist.com\n",
        "\n",
        "        #found api for proxies\n",
        "        r=s.get('https://proxylist.geonode.com/api/proxy-list?limit=50&page=1&sort_by=lastChecked&sort_type=desc&google=true&protocols=http%2Chttps',headers=headers)\n",
        "\n",
        "\n",
        "        \n",
        "        data=json.loads(r.content)\n",
        "\n",
        "        for client in data['data']:\n",
        "            proxy_list.append(client['ip']+':'+client['port'])\n",
        "        \n",
        "        for i in range(len(proxy_list)):\n",
        "            print (proxy_list[i]) \n",
        "Proxy()"
      ]
    }
  ]
}