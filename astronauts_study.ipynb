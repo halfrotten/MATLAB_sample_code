{
  "nbformat": 4,
  "nbformat_minor": 0,
  "metadata": {
    "colab": {
      "name": "astronauts study.ipynb",
      "provenance": [],
      "authorship_tag": "ABX9TyMl9REfmmPLHiED4oCUGr1M",
      "include_colab_link": true
    },
    "kernelspec": {
      "name": "python3",
      "display_name": "Python 3"
    },
    "language_info": {
      "name": "python"
    }
  },
  "cells": [
    {
      "cell_type": "markdown",
      "metadata": {
        "id": "view-in-github",
        "colab_type": "text"
      },
      "source": [
        "<a href=\"https://colab.research.google.com/github/paulotrad/MATLAB_sample_code/blob/main/astronauts_study.ipynb\" target=\"_parent\"><img src=\"https://colab.research.google.com/assets/colab-badge.svg\" alt=\"Open In Colab\"/></a>"
      ]
    },
    {
      "cell_type": "code",
      "execution_count": 89,
      "metadata": {
        "id": "hmFFTg2BwzfO"
      },
      "outputs": [],
      "source": [
        "import pandas as pd\n",
        "import numpy as np\n"
      ]
    },
    {
      "cell_type": "code",
      "source": [
        "space=pd.read_csv('sample_data/astronauts.csv')\n"
      ],
      "metadata": {
        "id": "s-Jh44eJw53O"
      },
      "execution_count": 127,
      "outputs": []
    },
    {
      "cell_type": "code",
      "source": [
        "space.columns\n"
      ],
      "metadata": {
        "colab": {
          "base_uri": "https://localhost:8080/"
        },
        "id": "q7dg-vud6hHo",
        "outputId": "23b6839b-99a9-47d1-ba15-e97b758e7a70"
      },
      "execution_count": 128,
      "outputs": [
        {
          "output_type": "execute_result",
          "data": {
            "text/plain": [
              "Index(['Name', 'Year', 'Group', 'Status', 'Birth Date', 'Birth Place',\n",
              "       'Gender', 'Alma Mater', 'Undergraduate Major', 'Graduate Major',\n",
              "       'Military Rank', 'Military Branch', 'Space Flights',\n",
              "       'Space Flight (hr)', 'Space Walks', 'Space Walks (hr)', 'Missions',\n",
              "       'Death Date', 'Death Mission'],\n",
              "      dtype='object')"
            ]
          },
          "metadata": {},
          "execution_count": 128
        }
      ]
    },
    {
      "cell_type": "code",
      "source": [
        "space.keys"
      ],
      "metadata": {
        "colab": {
          "base_uri": "https://localhost:8080/"
        },
        "id": "UnqpbCXb8RGS",
        "outputId": "cf3afcc7-10f1-4bbd-85db-caf03e785677"
      },
      "execution_count": 129,
      "outputs": [
        {
          "output_type": "execute_result",
          "data": {
            "text/plain": [
              "<bound method NDFrame.keys of                       Name    Year  Group   Status Birth Date  \\\n",
              "0          Joseph M. Acaba  2004.0   19.0   Active  5/17/1967   \n",
              "1           Loren W. Acton     NaN    NaN  Retired   3/7/1936   \n",
              "2         James C. Adamson  1984.0   10.0  Retired   3/3/1946   \n",
              "3          Thomas D. Akers  1987.0   12.0  Retired  5/20/1951   \n",
              "4              Buzz Aldrin  1963.0    3.0  Retired  1/20/1930   \n",
              "..                     ...     ...    ...      ...        ...   \n",
              "352          David A. Wolf  1990.0   13.0  Retired  8/23/1956   \n",
              "353  Neil W. Woodward III   1998.0   17.0  Retired  7/26/1962   \n",
              "354       Alfred M. Worden  1966.0    5.0  Retired   2/7/1932   \n",
              "355          John W. Young  1962.0    2.0  Retired  9/24/1930   \n",
              "356        George D. Zamka  1998.0   17.0  Retired  6/29/1962   \n",
              "\n",
              "           Birth Place Gender  \\\n",
              "0        Inglewood, CA   Male   \n",
              "1         Lewiston, MT   Male   \n",
              "2           Warsaw, NY   Male   \n",
              "3        St. Louis, MO   Male   \n",
              "4        Montclair, NJ   Male   \n",
              "..                 ...    ...   \n",
              "352   Indianapolis, IN   Male   \n",
              "353        Chicago, IL   Male   \n",
              "354        Jackson, MI   Male   \n",
              "355  San Francisco, CA   Male   \n",
              "356    Jersey City, NJ   Male   \n",
              "\n",
              "                                            Alma Mater  \\\n",
              "0    University of California-Santa Barbara; Univer...   \n",
              "1     Montana State University; University of Colorado   \n",
              "2            US Military Academy; Princeton University   \n",
              "3                         University of Missouri-Rolla   \n",
              "4                             US Military Academy; MIT   \n",
              "..                                                 ...   \n",
              "352              Purdue University; Indiana University   \n",
              "353  MIT; University of Texas-Austin; George Washin...   \n",
              "354        US Military Academy; University of Michigan   \n",
              "355                    Georgia Institute of Technology   \n",
              "356  US Naval Academy; Florida Institute of Technology   \n",
              "\n",
              "          Undergraduate Major                            Graduate Major  \\\n",
              "0                     Geology                                   Geology   \n",
              "1         Engineering Physics                             Solar Physics   \n",
              "2                 Engineering                     Aerospace Engineering   \n",
              "3         Applied Mathematics                       Applied Mathematics   \n",
              "4      Mechanical Engineering                              Astronautics   \n",
              "..                        ...                                       ...   \n",
              "352    Electrical Engineering                                  Medicine   \n",
              "353                   Physics              Physics; Business Management   \n",
              "354          Military Science  Aeronautical & Astronautical Engineering   \n",
              "355  Aeronautical Engineering                                       NaN   \n",
              "356               Mathematics                    Engineering Management   \n",
              "\n",
              "    Military Rank            Military Branch  Space Flights  \\\n",
              "0             NaN                        NaN              2   \n",
              "1             NaN                        NaN              1   \n",
              "2         Colonel          US Army (Retired)              2   \n",
              "3         Colonel     US Air Force (Retired)              4   \n",
              "4         Colonel     US Air Force (Retired)              2   \n",
              "..            ...                        ...            ...   \n",
              "352           NaN                        NaN              3   \n",
              "353     Commander                    US Navy              0   \n",
              "354       Colonel     US Air Force (Retired)              1   \n",
              "355       Captain          US Navy (Retired)              6   \n",
              "356       Colonel  US Marine Corps (Retired)              2   \n",
              "\n",
              "     Space Flight (hr)  Space Walks  Space Walks (hr)  \\\n",
              "0                 3307            2              13.0   \n",
              "1                  190            0               0.0   \n",
              "2                  334            0               0.0   \n",
              "3                  814            4              29.0   \n",
              "4                  289            2               8.0   \n",
              "..                 ...          ...               ...   \n",
              "352               4044            7              41.0   \n",
              "353                  0            0               0.0   \n",
              "354                295            1               0.5   \n",
              "355                835            3              20.0   \n",
              "356                692            0               0.0   \n",
              "\n",
              "                                              Missions Death Date  \\\n",
              "0               STS-119 (Discovery), ISS-31/32 (Soyuz)        NaN   \n",
              "1                                STS 51-F (Challenger)        NaN   \n",
              "2                 STS-28 (Columbia), STS-43 (Atlantis)        NaN   \n",
              "3    STS-41 (Discovery), STS-49 (Endeavor), STS-61 ...        NaN   \n",
              "4                                 Gemini 12, Apollo 11        NaN   \n",
              "..                                                 ...        ...   \n",
              "352  STS-58 (Columbia). STS-86/89 (Atlantis/Endeavo...        NaN   \n",
              "353                                                NaN        NaN   \n",
              "354                                          Apollo 15        NaN   \n",
              "355  Gemini 3, Gemini 10, Apollo 10, Apollo 16, STS...        NaN   \n",
              "356            STS-120 (Discovery), STS-130 (Endeavor)        NaN   \n",
              "\n",
              "    Death Mission  \n",
              "0             NaN  \n",
              "1             NaN  \n",
              "2             NaN  \n",
              "3             NaN  \n",
              "4             NaN  \n",
              "..            ...  \n",
              "352           NaN  \n",
              "353           NaN  \n",
              "354           NaN  \n",
              "355           NaN  \n",
              "356           NaN  \n",
              "\n",
              "[357 rows x 19 columns]>"
            ]
          },
          "metadata": {},
          "execution_count": 129
        }
      ]
    },
    {
      "cell_type": "code",
      "source": [
        "parr=space[['Year','Gender']].groupby('Year').min()"
      ],
      "metadata": {
        "id": "nnPUPzZ5ylXc"
      },
      "execution_count": 162,
      "outputs": []
    },
    {
      "cell_type": "code",
      "source": [
        "parr1=space[['Year','Gender']].groupby('Year').max()"
      ],
      "metadata": {
        "id": "HStA5ayn90_H"
      },
      "execution_count": 168,
      "outputs": []
    },
    {
      "cell_type": "code",
      "source": [
        "print(parr,parr1)"
      ],
      "metadata": {
        "colab": {
          "base_uri": "https://localhost:8080/"
        },
        "id": "2ZAOaxmU_Ud5",
        "outputId": "bc60909a-c3d2-4ff4-995c-38b65a1ceec2"
      },
      "execution_count": 169,
      "outputs": [
        {
          "output_type": "stream",
          "name": "stdout",
          "text": [
            "        Gender\n",
            "Year          \n",
            "1959.0    Male\n",
            "1962.0    Male\n",
            "1963.0    Male\n",
            "1965.0    Male\n",
            "1966.0    Male\n",
            "1967.0    Male\n",
            "1969.0    Male\n",
            "1978.0  Female\n",
            "1980.0  Female\n",
            "1984.0  Female\n",
            "1985.0  Female\n",
            "1987.0  Female\n",
            "1990.0  Female\n",
            "1992.0  Female\n",
            "1995.0  Female\n",
            "1996.0  Female\n",
            "1998.0  Female\n",
            "2000.0  Female\n",
            "2004.0  Female\n",
            "2009.0  Female        Gender\n",
            "Year         \n",
            "1959.0   Male\n",
            "1962.0   Male\n",
            "1963.0   Male\n",
            "1965.0   Male\n",
            "1966.0   Male\n",
            "1967.0   Male\n",
            "1969.0   Male\n",
            "1978.0   Male\n",
            "1980.0   Male\n",
            "1984.0   Male\n",
            "1985.0   Male\n",
            "1987.0   Male\n",
            "1990.0   Male\n",
            "1992.0   Male\n",
            "1995.0   Male\n",
            "1996.0   Male\n",
            "1998.0   Male\n",
            "2000.0   Male\n",
            "2004.0   Male\n",
            "2009.0   Male\n"
          ]
        }
      ]
    }
  ]
}